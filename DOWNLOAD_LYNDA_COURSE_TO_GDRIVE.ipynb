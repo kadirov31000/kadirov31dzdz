{
  "nbformat": 4,
  "nbformat_minor": 0,
  "metadata": {
    "colab": {
      "name": "DOWNLOAD LYNDA COURSE TO GDRIVE",
      "provenance": [],
      "collapsed_sections": []
    },
    "kernelspec": {
      "name": "python3",
      "display_name": "Python 3"
    }
  },
  "cells": [
    {
      "cell_type": "code",
      "metadata": {
        "id": "_C3ymOmCxI9w",
        "colab_type": "code",
        "cellView": "form",
        "colab": {
          "base_uri": "https://localhost:8080/",
          "height": 129
        },
        "outputId": "e9a5b7cb-e2e2-483b-e472-6191e37463f3"
      },
      "source": [
        "#@title RUN THIS MOUNT DRIVE\n",
        "from google.colab import drive\n",
        "drive.mount('/content/drive')"
      ],
      "execution_count": 1,
      "outputs": [
        {
          "output_type": "stream",
          "text": [
            "Go to this URL in a browser: https://accounts.google.com/o/oauth2/auth?client_id=947318989803-6bn6qk8qdgf4n4g3pfee6491hc0brc4i.apps.googleusercontent.com&redirect_uri=urn%3aietf%3awg%3aoauth%3a2.0%3aoob&response_type=code&scope=email%20https%3a%2f%2fwww.googleapis.com%2fauth%2fdocs.test%20https%3a%2f%2fwww.googleapis.com%2fauth%2fdrive%20https%3a%2f%2fwww.googleapis.com%2fauth%2fdrive.photos.readonly%20https%3a%2f%2fwww.googleapis.com%2fauth%2fpeopleapi.readonly\n",
            "\n",
            "Enter your authorization code:\n",
            "··········\n",
            "Mounted at /content/drive\n"
          ],
          "name": "stdout"
        }
      ]
    },
    {
      "cell_type": "code",
      "metadata": {
        "id": "S2X9i1IWh_Mg",
        "colab_type": "code",
        "cellView": "both",
        "colab": {}
      },
      "source": [
        "#@title INSTALL THIS FIRST\n",
        "!git clone https://github.com/kadirov31000/kadirov31dzdz.git\n",
        "!pip install -r /content/lynda-dl/requirements.txt"
      ],
      "execution_count": 0,
      "outputs": []
    },
    {
      "cell_type": "code",
      "metadata": {
        "colab_type": "code",
        "id": "EpEWbExWDJDH",
        "cellView": "form",
        "colab": {}
      },
      "source": [
        "#@title Download course using organization's library card\n",
        "#organization = \"aacpl.net\" #@param {type:\"string\"}\n",
        "#LYNDA_ID = \"21997050164500\" #@param {type:\"string\"}\n",
        "#PIN = \"aqw123\" #@param {type:\"string\"}\n",
        "COURSE_LINK = \"https://www.lynda.com/Selenium-tutorials/Learning-Selenium/656801-2.html\" #@param {type:\"string\"}\n",
        "!python /content/lynda-dl/lynda-dl.py -u "$LYNDA_ID" -p "$PIN" -o "$organization" \"$COURSE_LINK\"  -q 720 -d \"/content/lynda_Course\"\n",
        "!mv /content/lynda_Course \"/content/drive/My Drive/lynda_Course\"\n",
        "print(\"done\")\n"
      ],
      "execution_count": 0,
      "outputs": []
    }
  ]
}
